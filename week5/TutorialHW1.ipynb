{
  "cells": [
    {
      "cell_type": "markdown",
      "id": "e15da9a4",
      "metadata": {
        "id": "e15da9a4"
      },
      "source": [
        "# Tutorial Assignment1: Atacama soil microbiome analysis\n",
        "\n",
        "For this homework, you will be analyzing soil samples from the Atacama Desert in northern Chile. Despite extreme aridity in this region, there are still various microbes living in the soil here. The soil microbiomes you'll be analyzing here follow two east-west transects, Baquedano and Yungay, across which average soil relative humidity is positively correlated with elevation (higher elevations are less arid and thus have higher average soil relative humidity). Along these transects, pits were dug at each site and soil samples were collected from three depths in each pit.\n",
        "\n",
        "Additional logistics:\n",
        "- Please perform the analysis in bio-datahub and open a terminal to use the git clone command to copy the entire GitHub repository. The \"TutorialHW1.ipynb\" notebook is located in the week5 folder.\n",
        "- When you open the TutorialHW1.ipynb notebook, remember to select the \"Python [conda env:qiime2]\" kernel before running any commands.\n",
        "- Some questions below will require you to add your own cell blocks to this file and write a few commands.\n",
        "- Please include this file as well as a PDF file in your submission on bCourses. You can obtain a PDF with File > Download as > PDF via LaTeX.\n",
        "\n",
        "\n",
        "<br/>**This tutorial was adapted from the Atacama soil microbiome tutorial in the qiime2 documentation: https://docs.qiime2.org/2021.8/tutorials/atacama-soils/"
      ]
    },
    {
      "cell_type": "code",
      "execution_count": null,
      "id": "c5a79749",
      "metadata": {
        "id": "c5a79749"
      },
      "outputs": [],
      "source": [
        "import qiime2 as q2"
      ]
    },
    {
      "cell_type": "code",
      "execution_count": null,
      "id": "9e5aa192",
      "metadata": {
        "id": "9e5aa192"
      },
      "outputs": [],
      "source": [
        "!mkdir qiime2-atacama-hw\n",
        "!mkdir qiime2-atacama-hw/emp-paired-end-sequences\n",
        "%cd qiime2-atacama-hw"
      ]
    },
    {
      "cell_type": "markdown",
      "id": "aeaadb6d",
      "metadata": {
        "id": "aeaadb6d"
      },
      "source": [
        "### Import required data"
      ]
    },
    {
      "cell_type": "code",
      "execution_count": null,
      "id": "c99447e3",
      "metadata": {
        "id": "c99447e3"
      },
      "outputs": [],
      "source": [
        "!wget \\\n",
        "  -O \"sample-metadata.tsv\" \\\n",
        "  \"https://data.qiime2.org/2021.8/tutorials/atacama-soils/sample_metadata.tsv\"\n",
        "!wget \\\n",
        "  -O \"emp-paired-end-sequences/forward.fastq.gz\" \\\n",
        "  \"https://data.qiime2.org/2021.8/tutorials/atacama-soils/10p/forward.fastq.gz\"\n",
        "!wget \\\n",
        "  -O \"emp-paired-end-sequences/reverse.fastq.gz\" \\\n",
        "  \"https://data.qiime2.org/2021.8/tutorials/atacama-soils/10p/reverse.fastq.gz\"\n",
        "!wget \\\n",
        "  -O \"emp-paired-end-sequences/barcodes.fastq.gz\" \\\n",
        "  \"https://data.qiime2.org/2021.8/tutorials/atacama-soils/10p/barcodes.fastq.gz\"\n"
      ]
    },
    {
      "cell_type": "markdown",
      "id": "03fa2789",
      "metadata": {
        "id": "03fa2789"
      },
      "source": [
        "### Prepare the data- import as QIIME 2 artifact and demultiplex"
      ]
    },
    {
      "cell_type": "code",
      "execution_count": null,
      "id": "50690598",
      "metadata": {
        "id": "50690598"
      },
      "outputs": [],
      "source": [
        "!qiime tools import \\\n",
        "   --type EMPPairedEndSequences \\\n",
        "   --input-path emp-paired-end-sequences \\\n",
        "   --output-path emp-paired-end-sequences.qza"
      ]
    },
    {
      "cell_type": "code",
      "execution_count": null,
      "id": "b3ef22ca",
      "metadata": {
        "id": "b3ef22ca"
      },
      "outputs": [],
      "source": [
        "!qiime demux emp-paired \\\n",
        "  --m-barcodes-file sample-metadata.tsv \\\n",
        "  --m-barcodes-column barcode-sequence \\\n",
        "  --p-rev-comp-mapping-barcodes \\\n",
        "  --i-seqs emp-paired-end-sequences.qza \\\n",
        "  --o-per-sample-sequences demux-full.qza \\\n",
        "  --o-error-correction-details demux-details.qza"
      ]
    },
    {
      "cell_type": "markdown",
      "id": "0c2f1c88",
      "metadata": {
        "id": "0c2f1c88"
      },
      "source": [
        "Use what you've learned from the in-class tutorial to fill in an appropriate value for the --p-trim and --p-trunc parameters"
      ]
    },
    {
      "cell_type": "code",
      "execution_count": null,
      "id": "8a2300ec",
      "metadata": {
        "id": "8a2300ec"
      },
      "outputs": [],
      "source": [
        "%%time\n",
        "!qiime dada2 denoise-paired \\\n",
        "  --i-demultiplexed-seqs demux-full.qza \\\n",
        " --p-trim-left-f \\\n",
        "  --p-trim-left-r \\\n",
        "  --p-trunc-len-f \\\n",
        "  --p-trunc-len-r \\\n",
        "  --o-representative-sequences rep-seqs.qza \\\n",
        "  --o-table table.qza \\\n",
        "  --o-denoising-stats stats-dada2.qza"
      ]
    },
    {
      "cell_type": "code",
      "execution_count": null,
      "id": "07a0a13b",
      "metadata": {
        "id": "07a0a13b"
      },
      "outputs": [],
      "source": [
        "!qiime phylogeny align-to-tree-mafft-fasttree \\\n",
        "  --i-sequences rep-seqs.qza \\\n",
        "  --o-alignment aligned-rep-seqs.qza \\\n",
        "  --o-masked-alignment masked-aligned-rep-seqs.qza \\\n",
        "  --o-tree unrooted-tree.qza \\\n",
        "  --o-rooted-tree rooted-tree.qza"
      ]
    },
    {
      "cell_type": "markdown",
      "id": "2e80d2a1",
      "metadata": {
        "id": "2e80d2a1"
      },
      "source": [
        "Use what you've learned from the in-class tutorial to fill in an appropriate value for --p-sampling-depth"
      ]
    },
    {
      "cell_type": "code",
      "execution_count": null,
      "id": "10456799",
      "metadata": {
        "id": "10456799"
      },
      "outputs": [],
      "source": [
        "!mkdir core-metrics-results-atacama"
      ]
    },
    {
      "cell_type": "code",
      "execution_count": null,
      "id": "59bc89ec",
      "metadata": {
        "id": "59bc89ec"
      },
      "outputs": [],
      "source": [
        "!qiime diversity core-metrics-phylogenetic \\\n",
        "  --i-phylogeny rooted-tree.qza \\\n",
        "  --i-table table.qza \\\n",
        "  --p-sampling-depth \\\n",
        "  --m-metadata-file sample-metadata.tsv \\\n",
        "  --output-dir core-metrics-results-atacama"
      ]
    },
    {
      "cell_type": "markdown",
      "id": "80d7381c",
      "metadata": {
        "id": "80d7381c"
      },
      "source": [
        "### ANCOM"
      ]
    },
    {
      "cell_type": "code",
      "execution_count": null,
      "id": "baa79c31",
      "metadata": {
        "id": "baa79c31"
      },
      "outputs": [],
      "source": [
        "#add zero\n",
        "!qiime composition add-pseudocount \\\n",
        "  --i-table table.qza \\\n",
        "  --o-composition-table comp-table.qza"
      ]
    },
    {
      "cell_type": "markdown",
      "id": "bf95e7ce",
      "metadata": {
        "id": "bf95e7ce"
      },
      "source": [
        "Note that this step will take ~30 min to run"
      ]
    },
    {
      "cell_type": "code",
      "execution_count": null,
      "id": "c5da7ccf",
      "metadata": {
        "id": "c5da7ccf"
      },
      "outputs": [],
      "source": [
        "!qiime composition ancom \\\n",
        "  --i-table comp-table.qza \\\n",
        "  --m-metadata-file sample-metadata.tsv \\\n",
        "  --m-metadata-column vegetation \\\n",
        "  --o-visualization ancom-vegetation.qzv"
      ]
    },
    {
      "cell_type": "markdown",
      "id": "2c500663",
      "metadata": {
        "id": "2c500663"
      },
      "source": [
        "### Taxonomic analysis\n",
        "Import our classifier and obtain taxonomic classification of our samples"
      ]
    },
    {
      "cell_type": "code",
      "execution_count": null,
      "id": "10943b27",
      "metadata": {
        "id": "10943b27"
      },
      "outputs": [],
      "source": [
        "!wget \\\n",
        "  -O \"gg-13-8-99-515-806-nb-classifier.qza\" \\\n",
        "  \"https://data.qiime2.org/2021.8/common/gg-13-8-99-515-806-nb-classifier.qza\""
      ]
    },
    {
      "cell_type": "code",
      "execution_count": null,
      "id": "82244611",
      "metadata": {
        "id": "82244611"
      },
      "outputs": [],
      "source": [
        "!qiime feature-classifier classify-sklearn \\\n",
        "  --i-classifier gg-13-8-99-515-806-nb-classifier.qza \\\n",
        "  --i-reads rep-seqs.qza \\\n",
        "  --o-classification taxonomy.qza"
      ]
    },
    {
      "cell_type": "code",
      "execution_count": null,
      "id": "d887cf66",
      "metadata": {
        "id": "d887cf66"
      },
      "outputs": [],
      "source": [
        "!qiime metadata tabulate \\\n",
        "  --m-input-file taxonomy.qza \\\n",
        "  --o-visualization taxonomy.qzv"
      ]
    }
  ],
  "metadata": {
    "kernelspec": {
      "display_name": "Python 3 (ipykernel)",
      "language": "python",
      "name": "python3"
    },
    "language_info": {
      "codemirror_mode": {
        "name": "ipython",
        "version": 3
      },
      "file_extension": ".py",
      "mimetype": "text/x-python",
      "name": "python",
      "nbconvert_exporter": "python",
      "pygments_lexer": "ipython3",
      "version": "3.8.11"
    },
    "colab": {
      "provenance": []
    }
  },
  "nbformat": 4,
  "nbformat_minor": 5
}