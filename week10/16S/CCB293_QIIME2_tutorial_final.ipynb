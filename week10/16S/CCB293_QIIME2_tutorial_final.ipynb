{
  "cells": [
    {
      "cell_type": "markdown",
      "id": "7c80d9b8",
      "metadata": {
        "id": "7c80d9b8"
      },
      "source": [
        "# QIIME2 \"Moving Pictures\" tutorial"
      ]
    },
    {
      "cell_type": "markdown",
      "id": "7218452f",
      "metadata": {
        "id": "7218452f"
      },
      "source": [
        "<font size=\"3\">In this tutorial, we will be analyzing genomic sequence data from the human microbiome. The sample data we will be using is composed of two individuals at four body sites at five timepoints, and the first timepoint was initiated immediately after antibiotic usage. This tutorial is adapted from: https://docs.qiime2.org/2021.8/tutorials/moving-pictures/ </font>  "
      ]
    },
    {
      "cell_type": "markdown",
      "id": "25bb588b",
      "metadata": {
        "id": "25bb588b"
      },
      "source": [
        "### Import required packages and data\n",
        "Let's start by importing our required packages."
      ]
    },
    {
      "cell_type": "code",
      "source": [
        "!wget https://repo.anaconda.com/miniconda/Miniconda3-latest-Linux-x86_64.sh"
      ],
      "metadata": {
        "id": "3AYgAbFtDFJ5"
      },
      "id": "3AYgAbFtDFJ5",
      "execution_count": null,
      "outputs": []
    },
    {
      "cell_type": "code",
      "execution_count": null,
      "id": "b7b956ab",
      "metadata": {
        "id": "b7b956ab"
      },
      "outputs": [],
      "source": [
        "import qiime2 as q2\n",
        "!mkdir emp-single-end-sequences\n",
        "!mv barcodes.fastq.gz emp-single-end-sequences/\n",
        "!mv sequences.fastq.gz emp-single-end-sequences/"
      ]
    },
    {
      "cell_type": "markdown",
      "id": "573d04cd",
      "metadata": {
        "id": "573d04cd"
      },
      "source": [
        "### Import data as a QIIME 2 artifact\n",
        "In order to analyze data with QIIME2, we need to convert it to a QIIME2 artifact. This file structure contains information about the type of data and source of data present."
      ]
    },
    {
      "cell_type": "code",
      "execution_count": null,
      "id": "b4b367d9",
      "metadata": {
        "scrolled": false,
        "id": "b4b367d9"
      },
      "outputs": [],
      "source": [
        "!qiime tools import \\\n",
        "    --type EMPSingleEndSequences \\\n",
        "    --input-path emp-single-end-sequences \\\n",
        "    --output-path emp-single-end-sequences.qza"
      ]
    },
    {
      "cell_type": "code",
      "execution_count": null,
      "id": "2fdc20b4",
      "metadata": {
        "id": "2fdc20b4"
      },
      "outputs": [],
      "source": [
        "!qiime tools peek emp-single-end-sequences.qza\n"
      ]
    },
    {
      "cell_type": "markdown",
      "id": "66619bde",
      "metadata": {
        "id": "66619bde"
      },
      "source": [
        "### Demultiplexing sequences\n",
        "QIIME2 artifacts contain sequences that are multiplexed, meaning that they have not yet been assigned to samples. In this step, we will use our sample metadata to demultiplex our reads, and infer which barcodes belong to each sample."
      ]
    },
    {
      "cell_type": "code",
      "execution_count": null,
      "id": "d8355179",
      "metadata": {
        "id": "d8355179"
      },
      "outputs": [],
      "source": [
        "##demultiplex reads\n",
        "!qiime demux emp-single \\\n",
        "  --i-seqs emp-single-end-sequences.qza \\\n",
        "  --m-barcodes-file sample-metadata.tsv \\\n",
        "  --m-barcodes-column barcode-sequence \\\n",
        "  --o-per-sample-sequences demux.qza \\\n",
        "  --o-error-correction-details demux-details.qza\n"
      ]
    },
    {
      "cell_type": "markdown",
      "id": "2acef9fe",
      "metadata": {
        "id": "2acef9fe"
      },
      "source": [
        "Let's generate a summary of our demultiplexing step, which will contain information about how many sequences were obtained per sample, and also a summary of the distribution of sequence qualities at each position in our sequence data."
      ]
    },
    {
      "cell_type": "code",
      "execution_count": null,
      "id": "b564134f",
      "metadata": {
        "id": "b564134f"
      },
      "outputs": [],
      "source": [
        "#summarize\n",
        "!qiime demux summarize \\\n",
        "  --i-data demux.qza \\\n",
        "  --o-visualization demux.qzv"
      ]
    },
    {
      "cell_type": "code",
      "execution_count": null,
      "id": "6d53bb5d",
      "metadata": {
        "id": "6d53bb5d"
      },
      "outputs": [],
      "source": [
        "#Download demux.qzv and drag into https://view.qiime2.org/"
      ]
    },
    {
      "cell_type": "markdown",
      "id": "7352e939",
      "metadata": {
        "id": "7352e939"
      },
      "source": [
        "*Note: All QIIME2 visualizers will generate a .qzv file, which can be visualized by dragging the file into this webpage: https://view.qiime2.org/"
      ]
    },
    {
      "cell_type": "markdown",
      "id": "01da1a65",
      "metadata": {
        "id": "01da1a65"
      },
      "source": [
        "### Sequence quality control and feature table construction: DADA2\n",
        "DADA2 is a pipeline for detecting and correcting (where possible) Illumina amplicon sequence data. This pipeline will also filter any phiX reads (commonly present in marker gene Illumina sequence data) as well as chimeric sequences."
      ]
    },
    {
      "cell_type": "markdown",
      "id": "0eee64d5",
      "metadata": {
        "id": "0eee64d5"
      },
      "source": [
        "- dada2 denoise-single parameters:\n",
        "    - --p-trim-left: trims off the first m bases of each sequence\n",
        "    - --p-trunc-len: truncates each sequence at position n\n",
        "\n",
        "**Values for these parameters can be determined by reviewing the Interactive Quality Plot tab in the demux.qzv file generated above*"
      ]
    },
    {
      "cell_type": "markdown",
      "id": "868173a0",
      "metadata": {
        "id": "868173a0"
      },
      "source": [
        "### Questions:\n",
        "What is the median number of reads per sample?\n",
        "\n",
        "Based on the plots you see in demux.qzv, what values would you choose for --p-trunc-len and --p-trim-left in this case? Please input below."
      ]
    },
    {
      "cell_type": "code",
      "execution_count": null,
      "id": "3a3627ff",
      "metadata": {
        "id": "3a3627ff"
      },
      "outputs": [],
      "source": [
        "##DADA2\n",
        "!qiime dada2 denoise-single \\\n",
        "  --i-demultiplexed-seqs demux.qza \\\n",
        "  --p-trim-left  \\\n",
        "  --p-trunc-len  \\\n",
        "  --o-representative-sequences rep-seqs.qza \\\n",
        "  --o-table table.qza \\\n",
        "  --o-denoising-stats stats-dada2.qza"
      ]
    },
    {
      "cell_type": "markdown",
      "id": "4a30175a",
      "metadata": {
        "id": "4a30175a"
      },
      "source": [
        "Convert output statistics to a visualization file in order to view output"
      ]
    },
    {
      "cell_type": "code",
      "execution_count": null,
      "id": "fdf22517",
      "metadata": {
        "id": "fdf22517"
      },
      "outputs": [],
      "source": [
        "!qiime metadata tabulate \\\n",
        "  --m-input-file stats-dada2.qza \\\n",
        "  --o-visualization stats-dada2.qzv"
      ]
    },
    {
      "cell_type": "markdown",
      "id": "00ac2ea5",
      "metadata": {
        "id": "00ac2ea5"
      },
      "source": [
        "### Generate visual summaries of our data after filtering so far\n",
        "- <ins>feature-table summarize</ins>: gives information on how many sequences are associated with each sample and with each feature, histograms of those distributions, and some related summary statistics\n",
        "- <ins>feature-table tabulate-seqs</ins>: provides a mapping of feature IDs to sequences, and provides links to easily BLAST each sequence against the NCBI nt database"
      ]
    },
    {
      "cell_type": "code",
      "execution_count": null,
      "id": "104310ca",
      "metadata": {
        "id": "104310ca"
      },
      "outputs": [],
      "source": [
        "#feature table\n",
        "!qiime feature-table summarize \\\n",
        "  --i-table table.qza \\\n",
        "  --o-visualization table.qzv \\\n",
        "  --m-sample-metadata-file sample-metadata.tsv\n",
        "\n",
        "!qiime feature-table tabulate-seqs \\\n",
        "  --i-data rep-seqs.qza \\\n",
        "  --o-visualization rep-seqs.qzv"
      ]
    },
    {
      "cell_type": "markdown",
      "id": "4e50ab9d",
      "metadata": {
        "id": "4e50ab9d"
      },
      "source": [
        "### Questions\n",
        "Which sample has the lowest feature count?\n",
        "How many features / ASVs were identified?\n",
        "Which body site has samples with the lowest coverage?\n",
        "\n",
        "### Generate a tree for phylogenetic diversity analyses\n",
        "QIIME2 can generate several phylogenetic diversity metrics, but these metrics require a rooted phylogenetic tree relating features of samples to each other. This tree can be generated with the phylogeny <ins>align-to-tree-mafft-fasttree</ins> command.\n",
        "\n",
        "First, the pipeline uses the mafft program to perform a multiple sequence alignment of the sequences in our FeatureData[Sequence] to create a FeatureData[AlignedSequence] QIIME 2 artifact. Next, the pipeline masks (or filters) the alignment to remove positions that are highly variable. These positions are generally considered to add noise to a resulting phylogenetic tree. Following that, the pipeline applies FastTree to generate a phylogenetic tree from the masked alignment. The FastTree program creates an unrooted tree, so in the final step in this section midpoint rooting is applied to place the root of the tree at the midpoint of the longest tip-to-tip distance in the unrooted tree."
      ]
    },
    {
      "cell_type": "code",
      "execution_count": null,
      "id": "a070df4d",
      "metadata": {
        "id": "a070df4d"
      },
      "outputs": [],
      "source": [
        "#Phylogenetic tree for diversity analyses\n",
        "!qiime phylogeny align-to-tree-mafft-fasttree \\\n",
        "  --i-sequences rep-seqs.qza \\\n",
        "  --o-alignment aligned-rep-seqs.qza \\\n",
        "  --o-masked-alignment masked-aligned-rep-seqs.qza \\\n",
        "  --o-tree unrooted-tree.qza \\\n",
        "  --o-rooted-tree rooted-tree.qza"
      ]
    },
    {
      "cell_type": "markdown",
      "id": "9340614a",
      "metadata": {
        "id": "9340614a"
      },
      "source": [
        "### Question:\n",
        "View the table.qzv QIIME 2 artifact, and in particular the Interactive Sample Detail tab in that visualization. What value would you choose to pass for --p-sampling-depth? How many samples will be excluded from your analysis based on this choice? How many total sequences will you be analyzing in the core-metrics-phylogenetic command?"
      ]
    },
    {
      "cell_type": "markdown",
      "id": "d6f52a64",
      "metadata": {
        "id": "d6f52a64"
      },
      "source": [
        "### Alpha and Beta diversity analysis\n",
        "The diversity core-metrics-phylogenetic plugin computes various alpha and beta diversity metrics and generates principle coordinates analysis (PCoA) plots for each of the beta diversity metrics.\n",
        "\n",
        "- --p-sampling-depth parameter: the even sampling (i.e. rarefaction) depth. Because most diversity metrics are sensitive to different sampling depths across different samples, this script will randomly subsample the counts from each sample to the value provided for this parameter.\n",
        "\n",
        "Alpha diversity metrics:\n",
        "- Shannon’s diversity index (a quantitative measure of community richness)\n",
        "- Observed Features (a qualitative measure of community richness)\n",
        "- Faith’s Phylogenetic Diversity (a qualitiative measure of community richness that incorporates phylogenetic relationships between the features)\n",
        "- Evenness (or Pielou’s Evenness; a measure of community evenness)\n",
        "\n",
        "Beta diversity metrics:\n",
        "- Jaccard distance (a qualitative measure of community dissimilarity)\n",
        "- Bray-Curtis distance (a quantitative measure of community dissimilarity)\n",
        "- unweighted UniFrac distance (a qualitative measure of community dissimilarity that incorporates phylogenetic relationships between the features)\n",
        "- weighted UniFrac distance (a quantitative measure of community dissimilarity that incorporates phylogenetic relationships between the features)"
      ]
    },
    {
      "cell_type": "code",
      "execution_count": null,
      "id": "8f6ee99d",
      "metadata": {
        "id": "8f6ee99d"
      },
      "outputs": [],
      "source": [
        "!qiime diversity core-metrics-phylogenetic \\\n",
        "  --i-phylogeny rooted-tree.qza \\\n",
        "  --i-table table.qza \\\n",
        "  --p-sampling-depth  \\\n",
        "  --m-metadata-file sample-metadata.tsv \\\n",
        "  --output-dir core-metrics-results"
      ]
    },
    {
      "cell_type": "markdown",
      "id": "eadc1f87",
      "metadata": {
        "id": "eadc1f87"
      },
      "source": [
        "### Questions:\n",
        "Which metric separates the samples best by body site?\n",
        "How does unweighted vs. weighted unifrac compare? What does this mean?"
      ]
    },
    {
      "cell_type": "markdown",
      "id": "9c654f5f",
      "metadata": {
        "id": "9c654f5f"
      },
      "source": [
        "Now let's test for associations between categorical metadata columns and alpha diversity data. We’ll do that here for the Faith Phylogenetic Diversity (a measure of community richness) and evenness metrics."
      ]
    },
    {
      "cell_type": "code",
      "execution_count": null,
      "id": "a775ab63",
      "metadata": {
        "id": "a775ab63"
      },
      "outputs": [],
      "source": [
        "#Calculate significance\n",
        "#Alpha\n",
        "!qiime diversity alpha-group-significance \\\n",
        "  --i-alpha-diversity core-metrics-results/faith_pd_vector.qza \\\n",
        "  --m-metadata-file sample-metadata.tsv \\\n",
        "  --o-visualization core-metrics-results/faith-pd-group-significance.qzv\n"
      ]
    },
    {
      "cell_type": "code",
      "execution_count": null,
      "id": "a80de92f",
      "metadata": {
        "id": "a80de92f"
      },
      "outputs": [],
      "source": [
        "!qiime diversity alpha-group-significance \\\n",
        "  --i-alpha-diversity core-metrics-results/evenness_vector.qza \\\n",
        "  --m-metadata-file sample-metadata.tsv \\\n",
        "  --o-visualization core-metrics-results/evenness-group-significance.qzv"
      ]
    },
    {
      "cell_type": "markdown",
      "id": "8e1ae8b9",
      "metadata": {
        "id": "8e1ae8b9"
      },
      "source": [
        "### Questions:\n",
        "Which body site is the most diverse? Least diverse?\n",
        "Most even? Least even?\n",
        "In this dataset does antibiotics significantly change diversity?\n"
      ]
    },
    {
      "cell_type": "markdown",
      "id": "59bcc52b",
      "metadata": {
        "id": "59bcc52b"
      },
      "source": [
        "### Taxonomic analysis\n",
        "In this section we will explore the taxonomic composition of our samples.\n",
        "\n",
        "To begin we will assign taxonomy to our sequences using a pre-trained Naive Bayes classifier and the q2-feature-classifier plugin. Once we apply this classifier to our sequences, we can generate a visualization of the resulting mapping from sequence to taxonomy."
      ]
    },
    {
      "cell_type": "code",
      "execution_count": null,
      "id": "c4063d01",
      "metadata": {
        "id": "c4063d01"
      },
      "outputs": [],
      "source": [
        "#Taxonomic analysis\n",
        "!qiime feature-classifier classify-sklearn \\\n",
        "  --i-classifier gg-13-8-99-515-806-nb-classifier.qza \\\n",
        "  --i-reads rep-seqs.qza \\\n",
        "  --o-classification taxonomy.qza\n"
      ]
    },
    {
      "cell_type": "code",
      "execution_count": null,
      "id": "37da6eee",
      "metadata": {
        "id": "37da6eee"
      },
      "outputs": [],
      "source": [
        "!qiime metadata tabulate \\\n",
        "  --m-input-file taxonomy.qza \\\n",
        "  --o-visualization taxonomy.qzv\n"
      ]
    },
    {
      "cell_type": "markdown",
      "id": "16dbe115",
      "metadata": {
        "id": "16dbe115"
      },
      "source": [
        "Next, we can view the taxonomic composition of our samples with interactive bar plots generated by the following command. We can view these plots using the QIIME2 visulization webtool (https://view.qiime2.org/)"
      ]
    },
    {
      "cell_type": "code",
      "execution_count": null,
      "id": "24d5c616",
      "metadata": {
        "id": "24d5c616"
      },
      "outputs": [],
      "source": [
        "!qiime taxa barplot \\\n",
        "  --i-table table.qza \\\n",
        "  --i-taxonomy taxonomy.qza \\\n",
        "  --m-metadata-file sample-metadata.tsv \\\n",
        "  --o-visualization taxa-bar-plots.qzv"
      ]
    },
    {
      "cell_type": "markdown",
      "id": "29133b62",
      "metadata": {
        "id": "29133b62"
      },
      "source": [
        "### Differential abundance testing with ANCOM\n",
        "ANCOM can be applied to identify features that are present in different abundances across sample groups. Because we expect a lot of features to change in abundance across body sites, in this tutorial we’ll filter our full feature table to only contain gut samples. We’ll then apply ANCOM to determine which, if any, sequence variants and genera are differentially abundant across the gut samples of our two subjects.\n",
        "\n",
        "The command below will filter out only gut samples, and create a feature table to use in future steps."
      ]
    },
    {
      "cell_type": "code",
      "execution_count": null,
      "id": "3d47279f",
      "metadata": {
        "id": "3d47279f"
      },
      "outputs": [],
      "source": [
        "#Differential abundance testing with ANCOM\n",
        "#Filter table\n",
        "!qiime feature-table filter-samples \\\n",
        "  --i-table table.qza \\\n",
        "  --m-metadata-file sample-metadata.tsv \\\n",
        "  --p-where \"[body-site]='gut'\" \\\n",
        "  --o-filtered-table gut-table.qza"
      ]
    },
    {
      "cell_type": "markdown",
      "id": "5f73a610",
      "metadata": {
        "id": "5f73a610"
      },
      "source": [
        "Since ANCOM cannot tolerate frequencies of features on a per-sample basis being zero, we will use the add-pseudocount method to modify our QIIME2 artifact."
      ]
    },
    {
      "cell_type": "code",
      "execution_count": null,
      "id": "1ec7c3bd",
      "metadata": {
        "id": "1ec7c3bd"
      },
      "outputs": [],
      "source": [
        "#add zero\n",
        "!qiime composition add-pseudocount \\\n",
        "  --i-table gut-table.qza \\\n",
        "  --o-composition-table comp-gut-table.qza"
      ]
    },
    {
      "cell_type": "markdown",
      "id": "77af8e40",
      "metadata": {
        "id": "77af8e40"
      },
      "source": [
        "Now let's run ANCOM on the subject column to determine what features differ in abundance across the gut samples of the two subjects."
      ]
    },
    {
      "cell_type": "code",
      "execution_count": null,
      "id": "dad3a260",
      "metadata": {
        "id": "dad3a260"
      },
      "outputs": [],
      "source": [
        "#Differ in abundance across 2 subjects\n",
        "!qiime composition ancom \\\n",
        "  --i-table comp-gut-table.qza \\\n",
        "  --m-metadata-file sample-metadata.tsv \\\n",
        "  --m-metadata-column subject \\\n",
        "  --o-visualization ancom-subject.qzv\n"
      ]
    },
    {
      "cell_type": "markdown",
      "id": "ca509395",
      "metadata": {
        "id": "ca509395"
      },
      "source": [
        "We’re also often interested in performing a differential abundance test at a specific taxonomic level. To do this, we can collapse the features in our FeatureTable at the taxonomic level of interest, and then re-run the above steps. In this tutorial, we collapse our feature table at the genus level (i.e. level 6 of the Greengenes taxonomy)."
      ]
    },
    {
      "cell_type": "code",
      "execution_count": null,
      "id": "c828d145",
      "metadata": {
        "id": "c828d145"
      },
      "outputs": [],
      "source": [
        "#SWitch to genus level\n",
        "!qiime taxa collapse \\\n",
        "  --i-table gut-table.qza \\\n",
        "  --i-taxonomy taxonomy.qza \\\n",
        "  --p-level 6 \\\n",
        "  --o-collapsed-table gut-table-l6.qza\n"
      ]
    },
    {
      "cell_type": "code",
      "execution_count": null,
      "id": "edc95079",
      "metadata": {
        "id": "edc95079"
      },
      "outputs": [],
      "source": [
        "!qiime composition add-pseudocount \\\n",
        "  --i-table gut-table-l6.qza \\\n",
        "  --o-composition-table comp-gut-table-l6.qza\n"
      ]
    },
    {
      "cell_type": "code",
      "execution_count": null,
      "id": "3ff60f85",
      "metadata": {
        "id": "3ff60f85"
      },
      "outputs": [],
      "source": [
        "!qiime composition ancom \\\n",
        "  --i-table comp-gut-table-l6.qza \\\n",
        "  --m-metadata-file sample-metadata.tsv \\\n",
        "  --m-metadata-column subject \\\n",
        "  --o-visualization l6-ancom-subject.qzv"
      ]
    }
  ],
  "metadata": {
    "kernelspec": {
      "display_name": "Python 3 (ipykernel)",
      "language": "python",
      "name": "python3"
    },
    "language_info": {
      "codemirror_mode": {
        "name": "ipython",
        "version": 3
      },
      "file_extension": ".py",
      "mimetype": "text/x-python",
      "name": "python",
      "nbconvert_exporter": "python",
      "pygments_lexer": "ipython3",
      "version": "3.8.11"
    },
    "colab": {
      "provenance": []
    }
  },
  "nbformat": 4,
  "nbformat_minor": 5
}